{
 "cells": [
  {
   "cell_type": "code",
   "execution_count": 24,
   "metadata": {},
   "outputs": [
    {
     "name": "stdout",
     "output_type": "stream",
     "text": [
      "Hunting, Action\n",
      "17\n",
      "17\n"
     ]
    },
    {
     "data": {
      "text/plain": [
       "<matplotlib.axes._subplots.AxesSubplot at 0x7f9328c04810>"
      ]
     },
     "execution_count": 24,
     "metadata": {},
     "output_type": "execute_result"
    },
    {
     "data": {
      "image/png": "[encoded data removed]",
      "text/plain": [
       "<Figure size 432x288 with 1 Axes>"
      ]
     },
     "metadata": {
      "needs_background": "light"
     },
     "output_type": "display_data"
    }
   ],
   "source": [
    "%matplotlib inline\n",
    "\n",
    "import os\n",
    "from matplotlib import pyplot as plt\n",
    "import seaborn as sns\n",
    "import pandas as pd\n",
    "import numpy as np\n",
    "\n",
    "\n",
    "reviews = pd.read_csv(os.path.join(\"..\", \"data\", \"ign.csv\"))\n",
    "\n",
    "print(reviews.groupby([\"genre\"]).score.mean().idxmin())\n",
    "\n",
    "mask = (reviews[\"score_phrase\"] == \"Masterpiece\") & ((reviews[\"release_year\"] <= 2000) | ((reviews[\"release_year\"] == 2001) & (reviews[\"release_month\"] <=4)))\n",
    "\n",
    "print(len(reviews[mask]))\n",
    "    \n",
    "print(len(reviews.query(\"score_phrase == 'Masterpiece' and (release_year < 2001 or (release_year==2001 and release_month < 4))\").title.unique()))\n",
    "\n",
    "reviews.groupby(['platform']).filter(lambda x: len(x)>99).groupby(['platform']).size().idxmax()\n",
    "\n",
    "reviews.groupby(['platform']).score.agg([\"mean\",\"count\"]).sort_values(by=['mean','count'],ascending=False)\n",
    "\n",
    "reviews[reviews.genre.str.lower().str.contains('adventure').fillna(False)].query(\"score_phrase == 'Awful'\").sort_values(by='score', ascending=False)[:1]\n",
    "\n",
    "#reviews.groupby('release_year').score.mean().plot(marker = 'o')\n",
    "\n",
    "'7) Plot the probability of a game being an editor s choice as a function of score it was given\\\n",
    "(bin the score values to make the plot).'\n",
    "def lett_to_bool(string):\n",
    "    if(string == 'Y'): return 1\n",
    "    else: return 0\n",
    "\n",
    "copy = reviews\n",
    "copy['editors_choice'] = reviews[\"editors_choice\"].apply(lett_to_bool)\n",
    "copy.groupby('score').editors_choice.mean().plot()"
   ]
  },
  {
   "cell_type": "markdown",
   "metadata": {},
   "source": [
    "# Exercises\n",
    "All the following exercises are provided with a potential solution to them. All of the proposed problems can be solved in more than one way, so take the solution provided as a reference that can be improved on.\n",
    "\n",
    "### IGN game reviews dataset\n",
    "\n",
    "\n",
    "1) Print the worst game genre\n",
    "\n",
    "2) How many masterpiece (score_phrase == \"Masterpiece\") game titles were released before April 2001?\n",
    "\n",
    "3) Print the Platform that the editors choose more often (filter out the platforms with less than 100 games released on them)\n",
    "\n",
    "4) Load the dataset and print the names of the unique `platform`s, sorted in descending order by the mean score the received over all games released for them. In case of ties in the mean score, sort by the total number of games released on the platform.\n",
    "\n",
    "5) Find the best awful adventure game (most highly scored with an \"Awful\" score phrase, Adventure genre game). Take into account all variants of Adventure games, i.e. \"Adventure, Platformer', 'Educational, Adventure', etc.\n",
    "\n",
    "6) Plot the mean score of all games released as a function of the year it was released in.\n",
    "\n",
    "7) Plot the probability of a game being an editor's choice as a function of score it was given (bin the score values to make the plot).\n",
    "\n",
    "8) As a follow up of the above exercise, plot the probability of a game being an editor's choice as a function of score but do so for the following platforms: 'PlayStation 4', 'Xbox One' and 'PC'\n",
    "\n",
    "### Open problems (no solution provided)\n",
    "\n",
    "Use the titanic dataset available with seaborn as `sns.load_dataset('titanic')`\n",
    "\n",
    "1) Plot the fraction of male_adults that survived as a function of their age. Divide the data into two groups, the males that were alone and those that weren't.\n",
    "\n",
    "2) Plot the age distributions of the passengers divided into two groups, those that survived and those that didn't. Both plots must be within the same axes.\n",
    "\n",
    "3) Plot the correlations of age, fare paid, and survival.\n",
    "\n",
    "4) What embark_town had the highest survival rate? Was the survival rate correlated with the embark_town?\n",
    "\n",
    "5) Plot the distributions of fares paid according to class and age."
   ]
  },
  {
   "cell_type": "markdown",
   "metadata": {},
   "source": [
    "----\n",
    "\n",
    "# Solutions"
   ]
  },
  {
   "cell_type": "code",
   "execution_count": 2,
   "metadata": {},
   "outputs": [
    {
     "name": "stdout",
     "output_type": "stream",
     "text": [
      "Hunting, Action\n"
     ]
    }
   ],
   "source": [
    "# Ex 1\n",
    "print(reviews.\n",
    "      groupby('genre').\n",
    "      score.mean().\n",
    "      idxmin()\n",
    "     )"
   ]
  },
  {
   "cell_type": "code",
   "execution_count": 3,
   "metadata": {},
   "outputs": [
    {
     "name": "stdout",
     "output_type": "stream",
     "text": [
      "171\n"
     ]
    }
   ],
   "source": [
    "# Ex 2\n",
    "date_query = ('release_year < 2001 or '\n",
    "              '(release_year == 2001 and '\n",
    "              ' release_month < 4)')\n",
    "print(\n",
    "    len(\n",
    "        reviews.\n",
    "        query(\"score_phrase=='Masterpiece' and \" + date_query).\n",
    "        title.unique()  # Some titles get released over different platforms\n",
    "    )\n",
    ")"
   ]
  },
  {
   "cell_type": "code",
   "execution_count": 4,
   "metadata": {},
   "outputs": [
    {
     "name": "stdout",
     "output_type": "stream",
     "text": [
      "PlayStation 4\n"
     ]
    }
   ],
   "source": [
    "# Ex 3\n",
    "print(reviews.\n",
    "      groupby('platform').\n",
    "      filter(lambda x: len(x) >= 100).  # Here we keep the platforms with 100 games or more\n",
    "      groupby('platform').\n",
    "      score.mean().idxmax()\n",
    "     )"
   ]
  },
  {
   "cell_type": "code",
   "execution_count": 5,
   "metadata": {},
   "outputs": [
    {
     "name": "stdout",
     "output_type": "stream",
     "text": [
      "Index(['SteamOS', 'WonderSwan Color', 'Pocket PC', 'Macintosh',\n",
      "       'TurboGrafx-CD', 'Atari 5200', 'Ouya', 'Web Games', 'Game Boy',\n",
      "       'New Nintendo 3DS', 'Super NES', 'iPad', 'PlayStation 4', 'Xbox One',\n",
      "       'Linux', 'Android', 'Wii U', 'PlayStation Vita', 'Dreamcast',\n",
      "       'NeoGeo Pocket Color', 'Nintendo 3DS', 'iPhone', 'Saturn', 'Xbox',\n",
      "       'PlayStation 3', 'Wireless', 'PC', 'Lynx', 'Xbox 360', 'GameCube',\n",
      "       'Sega CD', 'Nintendo 64', 'iPod', 'PlayStation 2', 'Master System',\n",
      "       'Windows Phone', 'PlayStation Portable', 'N-Gage', 'Windows Surface',\n",
      "       'Nintendo 64DD', 'Game Boy Advance', 'NES', 'TurboGrafx-16',\n",
      "       'PlayStation', 'Genesis', 'NeoGeo', 'WonderSwan', 'Commodore 64/128',\n",
      "       'Nintendo DSi', 'Wii', 'Nintendo DS', 'Vectrex', 'Game Boy Color',\n",
      "       'Arcade', 'Atari 2600', 'Sega 32X', 'Game.Com', 'Dreamcast VMU',\n",
      "       'DVD / HD Video Game'],\n",
      "      dtype='object', name='platform')\n"
     ]
    }
   ],
   "source": [
    "# Ex 4\n",
    "print(\n",
    "    reviews.\n",
    "        groupby(['platform']).\n",
    "        score.agg(['mean', 'count']).\n",
    "        sort_values(by=['mean', 'count'],\n",
    "                    ascending=False).\n",
    "        index\n",
    ")"
   ]
  },
  {
   "cell_type": "code",
   "execution_count": 6,
   "metadata": {},
   "outputs": [
    {
     "name": "stdout",
     "output_type": "stream",
     "text": [
      "5857    Shrek 2\n",
      "Name: title, dtype: object\n"
     ]
    }
   ],
   "source": [
    "# Ex 5\n",
    "# We first get the indexes of all kinds of adventure genre games\n",
    "adventurous = (reviews.genre.\n",
    "                       str.lower().  # To be sure that we will match any case\n",
    "                       str.contains('adventure').  # If genre contains adventure\n",
    "                       fillna(False)  # Set false to games that don't have a genre\n",
    "               )\n",
    "print(reviews[adventurous].\n",
    "      query('score_phrase == \"Awful\"').\n",
    "      sort_values(by='score', ascending=False).\n",
    "      title.\n",
    "      head(1)\n",
    "     )"
   ]
  },
  {
   "cell_type": "code",
   "execution_count": 7,
   "metadata": {},
   "outputs": [
    {
     "data": {
      "text/plain": [
       "<matplotlib.axes._subplots.AxesSubplot at 0x7f8967ca49e8>"
      ]
     },
     "execution_count": 7,
     "metadata": {},
     "output_type": "execute_result"
    },
    {
     "data": {
      "image/png": "[encoded data removed]",
      "text/plain": [
       "<Figure size 432x288 with 1 Axes>"
      ]
     },
     "metadata": {
      "needs_background": "light"
     },
     "output_type": "display_data"
    }
   ],
   "source": [
    "# Ex 6\n",
    "reviews.groupby('release_year').score.mean().plot(marker='o')"
   ]
  },
  {
   "cell_type": "code",
   "execution_count": 8,
   "metadata": {},
   "outputs": [
    {
     "data": {
      "text/plain": [
       "<matplotlib.axes._subplots.AxesSubplot at 0x7f8966bc1fd0>"
      ]
     },
     "execution_count": 8,
     "metadata": {},
     "output_type": "execute_result"
    },
    {
     "data": {
      "image/png": "[encoded data removed]",
      "text/plain": [
       "<Figure size 432x288 with 1 Axes>"
      ]
     },
     "metadata": {
      "needs_background": "light"
     },
     "output_type": "display_data"
    }
   ],
   "source": [
    "# Ex 7\n",
    "aprox_scores = np.linspace(0, 10, 21)\n",
    "binned_score = aprox_scores[np.digitize(reviews.score,\n",
    "                                        aprox_scores) - 1]\n",
    "sub = reviews.assign(score=binned_score,\n",
    "                     editors_choice=reviews.editors_choice == 'Y')\n",
    "sub.groupby(['score']).editors_choice.mean().plot()"
   ]
  },
  {
   "cell_type": "code",
   "execution_count": 9,
   "metadata": {},
   "outputs": [
    {
     "data": {
      "text/plain": [
       "<matplotlib.legend.Legend at 0x7f8966a864a8>"
      ]
     },
     "execution_count": 9,
     "metadata": {},
     "output_type": "execute_result"
    },
    {
     "data": {
      "image/png": "[encoded data removed]",
      "text/plain": [
       "<Figure size 432x288 with 1 Axes>"
      ]
     },
     "metadata": {
      "needs_background": "light"
     },
     "output_type": "display_data"
    }
   ],
   "source": [
    "# Ex 8\n",
    "platforms = ['PlayStation 4', 'Xbox One', 'PC']\n",
    "aprox_scores = np.linspace(0, 10, 51)\n",
    "for platform in platforms:\n",
    "    df = reviews.query('platform == \"{}\"'.format(platform))\n",
    "    binned_score = aprox_scores[np.digitize(df.score,\n",
    "                                            aprox_scores) - 1]\n",
    "    sub = df.assign(score=binned_score,\n",
    "                    editors_choice=reviews.editors_choice == 'Y')\n",
    "    mean = sub.groupby(['score']).editors_choice.mean()\n",
    "    plt.plot(mean.index.get_values(), mean.values, '-o', label=platform)\n",
    "plt.legend()"
   ]
  }
 ],
 "metadata": {
  "kernelspec": {
   "display_name": "Python 3",
   "language": "python",
   "name": "python3"
  },
  "language_info": {
   "codemirror_mode": {
    "name": "ipython",
    "version": 3
   },
   "file_extension": ".py",
   "mimetype": "text/x-python",
   "name": "python",
   "nbconvert_exporter": "python",
   "pygments_lexer": "ipython3",
   "version": "3.7.5"
  }
 },
 "nbformat": 4,
 "nbformat_minor": 4
}
