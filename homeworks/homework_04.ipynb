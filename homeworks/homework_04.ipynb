{
 "cells": [
  {
   "cell_type": "markdown",
   "metadata": {},
   "source": [
    "### Exercise 1\n",
    "\n",
    "Let $\\theta_1$ and $\\theta_2$ be real valued parameters of the model\n",
    "\n",
    "$$\n",
    "y = \\frac{\\theta_1 x}{\\theta_2 + x}.\n",
    "$$\n",
    "\n",
    "a. Choose two suitable prior distributions for $\\theta_1$ and $\\theta_2$  and use HMC algorithm to find their posterior distributions, conditioning on the observations\n",
    "\n",
    "$$\n",
    "x=(28,55,110,138,225,375)\\\\\n",
    "y=(0.053,0.060,0.112,0.105,0.099,0.122).\n",
    "$$\n",
    "\n",
    "b. Discuss how different parameters for both priors and the HMC algorithm lead to different estimates. \n",
    "\n",
    "c. Plot the most reliable posterior distributions, according to convergence checks on the traces."
   ]
  },
  {
   "cell_type": "markdown",
   "metadata": {},
   "source": [
    "### Exercise 2\n",
    "\n",
    "A bivariate Gibbs sampler for a vector $x=(x_1,x_2)$ draws iteratively from the posterior conditional distributions in the following way:\n",
    "- choose a starting value $p(x_1|y,x_2^{(0)})$\n",
    "- for each iteration $i$:\n",
    "    - draw $x_2(i)$ from $p(x_2|y,x_1^{(i-1)})$\n",
    "    - draw $x_1(i)$ from $p(x_1|y,x_2^{(i)})$"
   ]
  },
  {
   "cell_type": "markdown",
   "metadata": {},
   "source": [
    "a. Supposing that samples are drawn from a bivariate normal distribution\n",
    "\n",
    "$$\n",
    "{x_1 \\choose x_2} \\sim \\mathcal{N} \\Bigg[ {0 \\choose 0} , \\begin{pmatrix} 1 & \\rho \\\\ \\rho & 1 \\end{pmatrix} \\Bigg],\n",
    "$$\n",
    "    implement a Gibbs sampler for $x$ which takes as inputs the number of iterations `iters` and the number of warmup draws `warmup`.\n",
    "\n",
    "b. Use your implementation of Gibbs sampler to infer the parameters $\\theta=(\\theta_1,\\theta_2)$ from **Exercise 1**."
   ]
  }
 ],
 "metadata": {
  "kernelspec": {
   "display_name": "Python 3",
   "language": "python",
   "name": "python3"
  },
  "language_info": {
   "codemirror_mode": {
    "name": "ipython",
    "version": 3
   },
   "file_extension": ".py",
   "mimetype": "text/x-python",
   "name": "python",
   "nbconvert_exporter": "python",
   "pygments_lexer": "ipython3",
   "version": "3.6.9"
  }
 },
 "nbformat": 4,
 "nbformat_minor": 4
}
