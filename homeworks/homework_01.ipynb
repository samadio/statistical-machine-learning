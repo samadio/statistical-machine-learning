{
 "cells": [
  {
   "cell_type": "markdown",
   "metadata": {},
   "source": [
    "## Homework 01"
   ]
  },
  {
   "cell_type": "markdown",
   "metadata": {},
   "source": [
    "### Exercise 1\n",
    "\n",
    "Let $Y$ be a random variable taking values in $\\{1,...,N\\}$ and suppose that any value is equally likely, i.e. that $P(Y=j)=\\frac{1}{N}$. \n",
    "\n",
    "Knowing that $\\sum_{j=1}^N j = \\frac{N(N+1)}{2}$, show that $\\mathbb{E}(Y)=\\frac{N+1}{2}$."
   ]
  },
  {
   "cell_type": "markdown",
   "metadata": {},
   "source": [
    "### Solution:\n",
    "\n",
    "$\\mathbb {E}(Y) =\\sum_{j=1}^{N} j*P(Y=j) =\\frac{1}{N} \\sum_{j=1}^{N} j $\n",
    "\n",
    "$= \\frac{1}{N} \\frac{N(N+1)}{2}= \\frac{(N+1)}{2}$"
   ]
  },
  {
   "cell_type": "markdown",
   "metadata": {},
   "source": [
    "### Exercise 2</font>\n",
    "Prove that $\\mathbb{E}(X)=\\mu$ for $X\\sim\\mathcal{N}(\\mu,\\sigma^2)$."
   ]
  },
  {
   "cell_type": "markdown",
   "metadata": {},
   "source": [
    "### Solution\n",
    "\n",
    "$\\mathbb{E}(X)= \\int_{- \\infty}^{+ \\infty} dx \\, x \\mathcal{N}(\\mu,\\sigma^2) $.\n",
    "\n",
    "Let y = $ \\frac{x- \\mu}{\\sqrt{2}\\sigma}$\n",
    "\n",
    "$\\mathbb{E}(X)=\\frac{\\sqrt{2} \\sigma}{\\sqrt{2 \\pi}\\sigma} \\int_{- \\infty}^{+ \\infty} dy \\, (\\sqrt{2} \\sigma y + \\mu)\\, exp(-y^2)$\n",
    "\n",
    "the first term of the sum is even function integrated on odd domain, so is zero. Then\n",
    "\n",
    "= $\\frac{\\mu}{\\sqrt{\\pi}} \\int_{- \\infty}^{+ \\infty} dy \\,exp(-y^2) = \\frac{2\\mu}{\\sqrt{\\pi}} \\int_{0}^{+ \\infty} dy \\, exp(- y^2)$\n",
    "\n",
    "Let z = $y^2$ bijective in $[0,+\\infty]$ then\n",
    "\n",
    "$\\mathbb{E}(X)= \\frac{2\\mu}{\\sqrt{\\pi}} \\int_{0}^{+ \\infty} (\\frac{dz}{2\\sqrt{z}}) \\, e^{-z}  = \\frac{\\mu}{\\sqrt{\\pi}} \\Gamma(\\frac{1}{2}) = \\mu$"
   ]
  },
  {
   "cell_type": "markdown",
   "metadata": {},
   "source": [
    "### Exercise 3\n",
    "Let $X$ and $Y$ have discrete joint distribution\n",
    "$$\n",
    "p(x,y) = \n",
    "\\begin{cases}\n",
    "\\frac{1}{30} (x+y) & \\text{for } x = 0,1,2 \\text{ and } y=0,1,2,3\\\\\n",
    "0 & \\text{otherwise}\n",
    "\\end{cases}\n",
    "$$\n",
    "\n",
    "Are $X$ and $Y$ independent?"
   ]
  },
  {
   "cell_type": "markdown",
   "metadata": {},
   "source": [
    "### Solution\n",
    "No: infact computing the marginals\n",
    "$$\n",
    "p(x) = \\sum_{y \\in [0,1,2,3]} p(x,y) = \\frac{2x}{15}+ \\frac{1+2+3}{30} = \\frac{2x+3}{15}\n",
    "$$\n",
    "\n",
    "$$\n",
    "p(y)=\\sum_{x \\in [0,1,2]} p(x,y) = \n",
    "\\frac{y+1}{10}\n",
    "$$\n",
    "\n",
    "you find\n",
    "\n",
    "$$\n",
    "p(x) \\, p(y) \\neq p(x,y) \n",
    "$$"
   ]
  },
  {
   "cell_type": "markdown",
   "metadata": {},
   "source": [
    "### Exercise 4\n",
    "\n",
    "Let $X$ and $Y$ be two continuos random variables with joint probability density\n",
    "\n",
    "$$\n",
    "f(x,y) = \n",
    "\\begin{cases}\n",
    "24xy & \\text{for } 0<x<1,0<y<1,x+y<1\\\\\n",
    "0 & \\text{otherwise}\n",
    "\\end{cases}\n",
    "$$\n",
    "\n",
    "Find\n",
    "1. the marginal density of Y;\n",
    "2. the conditional density of $X$ given $Y=1/2$.\n"
   ]
  },
  {
   "cell_type": "markdown",
   "metadata": {},
   "source": [
    "### Solution\n",
    "1.\n",
    "\n",
    "$$\n",
    "f(y) = 24y \\, \\int_{0}^{1-y} dx \\,x = \n",
    "12 \\, y(1-y)^2\n",
    "$$\n",
    "\n",
    "infact\n",
    "\n",
    "$\\int_0^1 dy \\,f(y) = 12 \\int_0^1 dy \\,(y + y^3 + 2y^2) = 6 + 3 - \\frac{24}{3} = 1 $ \n",
    "\n",
    "2.\n",
    "\n",
    "$$\n",
    "f(x|y) = \\frac{f(x,y)}{f(y)} =\\frac{2x}{(1-y)^2}\n",
    "$$\n",
    "\n",
    "so\n",
    "\n",
    "$$\n",
    "f(x|y= \\frac{1}{2}) = 8x\n",
    "$$\n",
    "\n",
    "infact\n",
    "\n",
    "$$\n",
    "\\int_0^{\\frac{1}{2}}8x = 4 \\frac{1}{2^2} = 1\n",
    "$$\n"
   ]
  },
  {
   "cell_type": "markdown",
   "metadata": {},
   "source": [
    "### Exercise 5\n",
    "\n",
    "Let the joint distribution of $X$ and $Y$ be \n",
    "\n",
    "$$f(X,Y) = \\frac{\\Gamma(\\alpha_1+\\alpha_2+\\alpha_3)}{\\Gamma(\\alpha_1)+\\Gamma(\\alpha_2)+\\Gamma(\\alpha_3)}x^{\\alpha_1-1}y^{\\alpha_2-1}(1-x-y)^{\\alpha_3-1}.$$ \n",
    "\n",
    "Prove that the marginal distribution of $X$ is a $\\text{Beta}(\\alpha_1,\\alpha_2+\\alpha_3)$."
   ]
  },
  {
   "cell_type": "code",
   "execution_count": null,
   "metadata": {},
   "outputs": [],
   "source": []
  }
 ],
 "metadata": {
  "kernelspec": {
   "display_name": "Python 3",
   "language": "python",
   "name": "python3"
  },
  "language_info": {
   "codemirror_mode": {
    "name": "ipython",
    "version": 3
   },
   "file_extension": ".py",
   "mimetype": "text/x-python",
   "name": "python",
   "nbconvert_exporter": "python",
   "pygments_lexer": "ipython3",
   "version": "3.7.5"
  }
 },
 "nbformat": 4,
 "nbformat_minor": 2
}
