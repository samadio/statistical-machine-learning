{
 "cells": [
  {
   "cell_type": "markdown",
   "metadata": {},
   "source": [
    "## Exercise\n",
    "\n",
    "Load the national COVID dataset and solve the exercise using `scikit-learn` library.\n",
    "Consider first the column corresponding to the (cumulative) number of deaths. \n",
    "1. Perform a train-test split, with observations from the last week corresponding to the test set;\n",
    "2. Build a suitable combination of kernels choosing from the ones shown in `notebook_05`;\n",
    "3. Fit a `GaussianProcessRegressor` to predict the daily number of swabs, plot future predictions and compare them to real test data;\n",
    "4. Repeat points 1-3 on the daily number of swabs, which can be computed from the cumulative number provided in the dataset.\n",
    "\n",
    "You are welcome to try out and fit other data streams in the dataset. \n"
   ]
  }
 ],
 "metadata": {
  "kernelspec": {
   "display_name": "Python 3",
   "language": "python",
   "name": "python3"
  },
  "language_info": {
   "codemirror_mode": {
    "name": "ipython",
    "version": 3
   },
   "file_extension": ".py",
   "mimetype": "text/x-python",
   "name": "python",
   "nbconvert_exporter": "python",
   "pygments_lexer": "ipython3",
   "version": "3.6.9"
  }
 },
 "nbformat": 4,
 "nbformat_minor": 4
}
